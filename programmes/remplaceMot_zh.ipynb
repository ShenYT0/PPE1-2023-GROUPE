{
 "cells": [
  {
   "cell_type": "code",
   "execution_count": 2,
   "id": "6df4309e-c0d3-468d-a620-2c776360728b",
   "metadata": {},
   "outputs": [],
   "source": [
    "#ce script vise à remplacer \"食品 安全\" par \"食品安全\" dans le fichier tokénisé. \n",
    "\n",
    "def remplace食品安全(source, destination) :\n",
    "    with open(source) as s :\n",
    "        content = s.read()\n",
    "    modified_content = content.replace('食品 安全', '食品安全')\n",
    "    with open(destination, 'w') as d :\n",
    "        d.write(modified_content)\n",
    "\n",
    "def main():\n",
    "    remplace食品安全(\"contextes-chinois_tok.txt\", \"contextes-chinois_tok_col.txt\")\n",
    "\n",
    "if __name__ == \"__main__\":\n",
    "    main()"
   ]
  },
  {
   "cell_type": "code",
   "execution_count": null,
   "id": "45a64e3b-2a53-4482-b720-2910ed9d7143",
   "metadata": {},
   "outputs": [],
   "source": []
  }
 ],
 "metadata": {
  "kernelspec": {
   "display_name": "Python 3 (ipykernel)",
   "language": "python",
   "name": "python3"
  },
  "language_info": {
   "codemirror_mode": {
    "name": "ipython",
    "version": 3
   },
   "file_extension": ".py",
   "mimetype": "text/x-python",
   "name": "python",
   "nbconvert_exporter": "python",
   "pygments_lexer": "ipython3",
   "version": "3.11.5"
  }
 },
 "nbformat": 4,
 "nbformat_minor": 5
}
