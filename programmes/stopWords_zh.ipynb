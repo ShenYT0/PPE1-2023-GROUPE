{
 "cells": [
  {
   "cell_type": "code",
   "execution_count": 8,
   "id": "40786a57-1619-437e-abcf-e06115d9d102",
   "metadata": {},
   "outputs": [],
   "source": [
    "#ce script vise à éliminer les stopwords du fichier \"contextes-chinois_tok_col.txt\"\n",
    "\n",
    "# 读取停用词列表\n",
    "with open('cn_stopwords.txt', 'r', encoding='utf-8') as file:\n",
    "    stopwords = set([line.strip() for line in file if line.strip() != ''])\n",
    "\n",
    "# 读取分词结果\n",
    "with open('contextes-chinois_tok_col.txt', 'r', encoding='utf-8') as file:\n",
    "    words = file.read().split()\n",
    "\n",
    "# 移除停用词\n",
    "filtered_words = [word for word in words if word not in stopwords]\n",
    "\n",
    "with open('contextes-chinois_stop.txt', 'w', encoding='utf-8') as file:\n",
    "    for word in filtered_words:\n",
    "        file.write(word + \" \")  "
   ]
  },
  {
   "cell_type": "code",
   "execution_count": null,
   "id": "b1d249be-ce6e-4bb7-8472-fbbad4dc9c8f",
   "metadata": {},
   "outputs": [],
   "source": []
  }
 ],
 "metadata": {
  "kernelspec": {
   "display_name": "Python 3 (ipykernel)",
   "language": "python",
   "name": "python3"
  },
  "language_info": {
   "codemirror_mode": {
    "name": "ipython",
    "version": 3
   },
   "file_extension": ".py",
   "mimetype": "text/x-python",
   "name": "python",
   "nbconvert_exporter": "python",
   "pygments_lexer": "ipython3",
   "version": "3.11.5"
  }
 },
 "nbformat": 4,
 "nbformat_minor": 5
}
